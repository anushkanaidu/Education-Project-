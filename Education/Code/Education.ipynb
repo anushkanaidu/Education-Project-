{
 "cells": [
  {
   "cell_type": "code",
   "execution_count": null,
   "id": "75ab2595-c0e2-48ce-8e5a-cb0f31ea3355",
   "metadata": {},
   "outputs": [],
   "source": []
  }
 ],
 "metadata": {
  "kernelspec": {
   "display_name": "",
   "name": ""
  },
  "language_info": {
   "name": ""
  }
 },
 "nbformat": 4,
 "nbformat_minor": 5
}
